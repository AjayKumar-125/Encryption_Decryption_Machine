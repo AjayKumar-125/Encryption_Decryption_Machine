{
 "cells": [
  {
   "cell_type": "code",
   "execution_count": 2,
   "id": "b8f416bb",
   "metadata": {},
   "outputs": [
    {
     "name": "stdout",
     "output_type": "stream",
     "text": [
      "Requirement already satisfied: flask in c:\\users\\asad computers\\appdata\\local\\programs\\python\\python311\\lib\\site-packages (3.0.3)\n",
      "Requirement already satisfied: Werkzeug>=3.0.0 in c:\\users\\asad computers\\appdata\\local\\programs\\python\\python311\\lib\\site-packages (from flask) (3.0.3)\n",
      "Requirement already satisfied: Jinja2>=3.1.2 in c:\\users\\asad computers\\appdata\\local\\programs\\python\\python311\\lib\\site-packages (from flask) (3.1.4)\n",
      "Requirement already satisfied: itsdangerous>=2.1.2 in c:\\users\\asad computers\\appdata\\local\\programs\\python\\python311\\lib\\site-packages (from flask) (2.2.0)\n",
      "Requirement already satisfied: click>=8.1.3 in c:\\users\\asad computers\\appdata\\local\\programs\\python\\python311\\lib\\site-packages (from flask) (8.1.7)\n",
      "Requirement already satisfied: blinker>=1.6.2 in c:\\users\\asad computers\\appdata\\local\\programs\\python\\python311\\lib\\site-packages (from flask) (1.8.2)\n",
      "Requirement already satisfied: colorama in c:\\users\\asad computers\\appdata\\roaming\\python\\python311\\site-packages (from click>=8.1.3->flask) (0.4.6)\n",
      "Requirement already satisfied: MarkupSafe>=2.0 in c:\\users\\asad computers\\appdata\\local\\programs\\python\\python311\\lib\\site-packages (from Jinja2>=3.1.2->flask) (2.1.5)\n",
      "Note: you may need to restart the kernel to use updated packages.\n"
     ]
    },
    {
     "name": "stderr",
     "output_type": "stream",
     "text": [
      "\n",
      "[notice] A new release of pip is available: 23.3.1 -> 24.0\n",
      "[notice] To update, run: python.exe -m pip install --upgrade pip\n"
     ]
    }
   ],
   "source": [
    "%pip install flask\n"
   ]
  },
  {
   "cell_type": "code",
   "execution_count": 1,
   "id": "10a9dc88",
   "metadata": {},
   "outputs": [
    {
     "name": "stdout",
     "output_type": "stream",
     "text": [
      " * Serving Flask app '__main__'\n",
      " * Debug mode: off\n"
     ]
    },
    {
     "name": "stderr",
     "output_type": "stream",
     "text": [
      "WARNING: This is a development server. Do not use it in a production deployment. Use a production WSGI server instead.\n",
      " * Running on http://127.0.0.1:5000\n",
      "Press CTRL+C to quit\n",
      "127.0.0.1 - - [09/Jun/2024 12:32:37] \"GET / HTTP/1.1\" 200 -\n",
      "127.0.0.1 - - [09/Jun/2024 12:32:41] \"GET /favicon.ico HTTP/1.1\" 404 -\n"
     ]
    }
   ],
   "source": [
    "from flask import Flask, request, render_template_string\n",
    "\n",
    "app = Flask(__name__)\n",
    "\n",
    "\n",
    "def machine(message, mode):\n",
    "    keys = 'abcdefghijklmnopqrstuvwxyz !'\n",
    "    values = keys[-1] + keys[0:-1]\n",
    "    encrytDict = dict(zip(keys, values))\n",
    "    decryptDict = dict(zip(values, keys))\n",
    "\n",
    "    if mode.upper() == 'E':\n",
    "        newMessage = ''.join([encrytDict[letter] for letter in message.lower()])\n",
    "    elif mode.upper() == 'D':\n",
    "        newMessage = ''.join([decryptDict[letter] for letter in message.lower()])\n",
    "    else:\n",
    "        newMessage = \"Invalid mode selected. Please choose 'E' for Encode or 'D' for Decode.\"\n",
    "\n",
    "    return newMessage.capitalize()\n",
    "\n",
    "\n",
    "@app.route('/', methods=['GET', 'POST'])\n",
    "def index():\n",
    "    result = None\n",
    "    if request.method == 'POST':\n",
    "        message = request.form['message']\n",
    "        mode = request.form['mode']\n",
    "        result = machine(message, mode)\n",
    "    return render_template_string(HTML_TEMPLATE, result=result)\n",
    "\n",
    "HTML_TEMPLATE = \"\"\"\n",
    "<!doctype html>\n",
    "<html lang=\"en\">\n",
    "<head>\n",
    "    <meta charset=\"utf-8\">\n",
    "    <meta name=\"viewport\" content=\"width=device-width, initial-scale=1, shrink-to-fit=no\">\n",
    "    <title>Encryption/Decryption Machine</title>\n",
    "    <link rel=\"stylesheet\" href=\"https://stackpath.bootstrapcdn.com/bootstrap/4.3.1/css/bootstrap.min.css\">\n",
    "    <style>\n",
    "        body {\n",
    "            background-image: url('https://cdn.pixabay.com/photo/2017/05/08/19/35/cyber-security-2296269_640.jpg'); /* Add your image path here */\n",
    "            background-size: cover;\n",
    "            background-position: center;\n",
    "            color: #ffffff; /* White text color for better contrast */\n",
    "        }\n",
    "        .container {\n",
    "            background-color: rgba(0, 0, 0, 0.7); /* Semi-transparent black background for better contrast with text */\n",
    "            padding: 20px;\n",
    "            border-radius: 10px;\n",
    "            margin-top: 50px;\n",
    "        }\n",
    "        .form-group label {\n",
    "            color: #ffffff; /* White text color for form labels */\n",
    "        }\n",
    "    </style>\n",
    "</head>\n",
    "<body>\n",
    "    <div class=\"container\">\n",
    "        <h1 class=\"mt-5\">Encryption/Decryption Machine</h1>\n",
    "        <form method=\"POST\" class=\"mt-3\">\n",
    "            <div class=\"form-group\">\n",
    "                <label for=\"message\">Enter your secret message:</label>\n",
    "                <input type=\"text\" class=\"form-control\" id=\"message\" name=\"message\" required>\n",
    "            </div>\n",
    "            <div class=\"form-group\">\n",
    "                <label for=\"mode\">Crypto Mode: Encode(E) OR Decode(D):</label>\n",
    "                <input type=\"text\" class=\"form-control\" id=\"mode\" name=\"mode\" required>\n",
    "            </div>\n",
    "            <button type=\"submit\" class=\"btn btn-primary\">Submit</button>\n",
    "        </form>\n",
    "        {% if result %}\n",
    "        <div class=\"mt-4\">\n",
    "            <h3>Result:</h3>\n",
    "            <p>{{ result }}</p>\n",
    "        </div>\n",
    "        {% endif %}\n",
    "    </div>\n",
    "</body>\n",
    "</html>\n",
    "\n",
    "\"\"\"\n",
    "\n",
    "if __name__ == '__main__':\n",
    "    app.run()"
   ]
  }
 ],
 "metadata": {
  "kernelspec": {
   "display_name": "Python 3 (ipykernel)",
   "language": "python",
   "name": "python3"
  },
  "language_info": {
   "codemirror_mode": {
    "name": "ipython",
    "version": 3
   },
   "file_extension": ".py",
   "mimetype": "text/x-python",
   "name": "python",
   "nbconvert_exporter": "python",
   "pygments_lexer": "ipython3",
   "version": "3.11.2"
  }
 },
 "nbformat": 4,
 "nbformat_minor": 5
}
